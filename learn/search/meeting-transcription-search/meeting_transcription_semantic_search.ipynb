{
 "cells": [
  {
   "cell_type": "markdown",
   "metadata": {
    "vscode": {
     "languageId": "bat"
    }
   },
   "source": [
    "[![Open In Colab](https://colab.research.google.com/assets/colab-badge.svg)](https://colab.research.google.com/github/pinecone-io/examples/blob/master/learn/search/meeting-transcription-search/meeting_transcription_semantic_search.ipynb)"
   ]
  },
  {
   "cell_type": "markdown",
   "metadata": {},
   "source": [
    "## Semantic Search over your Meeting audio data\n",
    "\n",
    "This notebook demonstrates how to quickly enable semantic search given a single audio file with Pinecone and Hugging Face. Don't have one handy? No problem, use\n",
    "the sample audio instead."
   ]
  },
  {
   "cell_type": "code",
   "execution_count": null,
   "metadata": {},
   "outputs": [],
   "source": [
    "## Installs\n",
    "!pip install datasets transformers pinecone"
   ]
  },
  {
   "cell_type": "code",
   "execution_count": null,
   "metadata": {},
   "outputs": [],
   "source": [
    "# Grab your desired audio file compatible with Hugging Face Pipelines and put it here\n",
    "from getpass import getpass\n",
    "audio_path = \"\"\n",
    "transcription_result = []\n",
    "\n",
    "api_key = getpass(\"Please enter your Pinecone API key here: \")"
   ]
  },
  {
   "cell_type": "code",
   "execution_count": null,
   "metadata": {},
   "outputs": [],
   "source": [
    "from datasets import load_dataset\n",
    "from transformers import pipeline\n",
    "\n",
    "pipeline = pipeline(\n",
    "    task=\"automatic-speech-recognition\",\n",
    "    model=\"openai/whisper-large-v3\",\n",
    ")\n",
    "\n",
    "\n",
    "if audio_path == \"\":\n",
    "    # use Hugging Face Sample Code instead, located here https://huggingface.co/learn/audio-course/en/chapter7/transcribe-meeting\n",
    "    concatenated_librispeech = load_dataset(\n",
    "    \"sanchit-gandhi/concatenated_librispeech\", split=\"train\")\n",
    "    transcription_result = pipeline(concatenated_librispeech[0][\"audio\"][\"array\"], return_timestamps=True)\n",
    "    transcription_result\n",
    "else:\n",
    "    # Use your own audio file, check out this for details: https://huggingface.co/openai/whisper-large-v3\n",
    "    transcription_result = pipeline(audio_path, return_timestamps=True)\n",
    "\n",
    "\n"
   ]
  },
  {
   "cell_type": "code",
   "execution_count": null,
   "metadata": {},
   "outputs": [],
   "source": [
    "print(transcription_result[\"chunks\"])"
   ]
  },
  {
   "cell_type": "code",
   "execution_count": null,
   "metadata": {},
   "outputs": [],
   "source": [
    "## use sentences as chunks, and transform into records for upsertion\n",
    "\n",
    "# Turn into records\n",
    "records = [\n",
    "    {\n",
    "        \"_id\": str(idx),\n",
    "        \"sentence\": chunk[\"text\"],\n",
    "        # add any other desired metadata here\n",
    "    }\n",
    "    for idx, chunk in enumerate(transcription_result[\"chunks\"])\n",
    "]\n",
    "\n",
    "# Import the Pinecone library\n",
    "from pinecone import Pinecone\n",
    "\n",
    "# Initialize a Pinecone client with your API key\n",
    "pc = Pinecone(api_key=api_key)\n",
    "namespace = \"meeting-1\"\n",
    "# Create a dense index with integrated embedding\n",
    "index_name = \"meeting-transcription-index\"\n",
    "if not pc.has_index(index_name):\n",
    "    pc.create_index_for_model(\n",
    "        name=index_name,\n",
    "        cloud=\"aws\",\n",
    "        region=\"us-east-1\",\n",
    "        embed={\n",
    "            \"model\":\"llama-text-embed-v2\",\n",
    "            \"field_map\":{\"text\": \"sentence\"}\n",
    "        }\n",
    "    )\n",
    "\n",
    "index = pc.Index(index_name)\n",
    "# query."
   ]
  },
  {
   "cell_type": "code",
   "execution_count": 33,
   "metadata": {},
   "outputs": [],
   "source": [
    "# upsert into pinecone\n",
    "def batch_upsert(records, batch_size=96, namespace=namespace):\n",
    "    # Great for longer audio files and batches of sentences\n",
    "    for i in range(0, len(records), batch_size):\n",
    "        batch = records[i:i+batch_size]\n",
    "        index.upsert_records(namespace=namespace, records=batch)\n",
    "\n",
    "batch_upsert(records)"
   ]
  },
  {
   "cell_type": "code",
   "execution_count": null,
   "metadata": {},
   "outputs": [],
   "source": [
    "# Replace with your own query here if needed\n",
    "import time\n",
    "query = \"Tell me about the king of France\"\n",
    "\n",
    "# Depending on the size of your dataset, it may take a few seconds for it to finish\n",
    "# embedding and populating into the index.\n",
    "time.sleep(10)\n",
    "\n",
    "results = index.search(\n",
    "    namespace=namespace,\n",
    "    query={\n",
    "        \"inputs\": {\"text\": query},\n",
    "        \"top_k\": 5,\n",
    "    },\n",
    ")\n",
    "\n",
    "print(results)"
   ]
  },
  {
   "cell_type": "code",
   "execution_count": null,
   "metadata": {},
   "outputs": [],
   "source": [
    "# Cleanup\n",
    "\n",
    "pc.delete_index(name=index_name)"
   ]
  }
 ],
 "metadata": {
  "kernelspec": {
   "display_name": "pinecone-examples",
   "language": "python",
   "name": "python3"
  },
  "language_info": {
   "codemirror_mode": {
    "name": "ipython",
    "version": 3
   },
   "file_extension": ".py",
   "mimetype": "text/x-python",
   "name": "python",
   "nbconvert_exporter": "python",
   "pygments_lexer": "ipython3",
   "version": "3.11.9"
  }
 },
 "nbformat": 4,
 "nbformat_minor": 2
}
